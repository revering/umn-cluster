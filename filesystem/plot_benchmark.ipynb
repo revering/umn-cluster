{
 "cells": [
  {
   "cell_type": "markdown",
   "id": "41ce9287",
   "metadata": {},
   "source": [
    "## Plot Benchmark Data\n",
    "This python notebook uses `matplotlib` and `pandas`."
   ]
  },
  {
   "cell_type": "code",
   "execution_count": 1,
   "id": "05b8dc50",
   "metadata": {},
   "outputs": [],
   "source": [
    "import pandas as pd\n",
    "import matplotlib.pyplot as plt\n",
    "\n",
    "def hist(df, local, fs, **kwargs) :\n",
    "    \"\"\"Get slice from pandas.DataFrame and plot histogram\n",
    "    \n",
    "    Histogram is filled with time / size * 10 ** 6 so that the\n",
    "    filled variable has units of s / MB. The histogram generated\n",
    "    is given a label corresponding to the inputs local and fs.\n",
    "    \n",
    "    Parameters\n",
    "    ----------\n",
    "    df : pandas.DataFrame\n",
    "        dataframe of data read in during runs\n",
    "    local : bool\n",
    "        copied to local scratch run or not?\n",
    "    fs : str\n",
    "        'hdfs' or 'zfs' filesystem\n",
    "    kwargs : dict\n",
    "        passed on to plt.hist\n",
    "    \"\"\"\n",
    "    sl = df[(df['local'] == local) & (df['filesystem'] == fs)]\n",
    "    local_str = 'remote'\n",
    "    if local :\n",
    "        local_str = 'local'\n",
    "    plt.hist(sl['time']/sl['size']*10**6, label = f'{fs} {local_str}', **kwargs)\n",
    "    \n",
    "def comp(f, title = None, **kwargs) :\n",
    "    \"\"\"Generate a comparison plot from the input file\n",
    "    \n",
    "    Four histograms are put onto the plot using the hist\n",
    "    function above - they involve all four combinations\n",
    "    of the two local options (True/False) and the two filesystem\n",
    "    options ('hdfs'/'zfs').\n",
    "    \n",
    "    Parameters\n",
    "    ----------\n",
    "    f : str\n",
    "        Filename with data to read from\n",
    "    title : str, optional\n",
    "        Title to add to plot, use filename by default\n",
    "    kwargs : dict\n",
    "        Passed on to hist\n",
    "    \"\"\"\n",
    "    \n",
    "    df = pd.read_csv(f)\n",
    "    hist(df, True , 'hdfs', **kwargs)\n",
    "    hist(df, False, 'hdfs', **kwargs)\n",
    "    hist(df, True , 'zfs' , **kwargs)\n",
    "    hist(df, False, 'zfs' , **kwargs)\n",
    "    plt.xlabel('Time [s] / File Size [MB]',size='xx-large')\n",
    "    plt.ylabel('File Count',size='xx-large')\n",
    "    if title is None :\n",
    "        title = f\n",
    "    plt.title(title,size='xx-large')\n",
    "    plt.legend()"
   ]
  },
  {
   "cell_type": "code",
   "execution_count": 2,
   "id": "eb2e8705",
   "metadata": {},
   "outputs": [
    {
     "data": {
      "image/png": "[encoded data removed]",
      "text/plain": [
       "<Figure size 576x432 with 1 Axes>"
      ]
     },
     "metadata": {
      "needs_background": "light"
     },
     "output_type": "display_data"
    }
   ],
   "source": [
    "plt.figure(figsize=(8,6))\n",
    "comp('all-branches-runs.csv',bins=20,histtype='step')\n",
    "plt.show()"
   ]
  },
  {
   "cell_type": "code",
   "execution_count": null,
   "id": "d131c3d2",
   "metadata": {},
   "outputs": [],
   "source": []
  }
 ],
 "metadata": {
  "kernelspec": {
   "display_name": "Python 3 (ipykernel)",
   "language": "python",
   "name": "python3"
  },
  "language_info": {
   "codemirror_mode": {
    "name": "ipython",
    "version": 3
   },
   "file_extension": ".py",
   "mimetype": "text/x-python",
   "name": "python",
   "nbconvert_exporter": "python",
   "pygments_lexer": "ipython3",
   "version": "3.8.10"
  }
 },
 "nbformat": 4,
 "nbformat_minor": 5
}
