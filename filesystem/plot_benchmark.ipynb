{
 "cells": [
  {
   "cell_type": "markdown",
   "id": "41ce9287",
   "metadata": {},
   "source": [
    "## Plot Benchmark Data\n",
    "This python notebook uses `matplotlib` and `pandas`."
   ]
  },
  {
   "cell_type": "code",
   "execution_count": 1,
   "id": "05b8dc50",
   "metadata": {},
   "outputs": [],
   "source": [
    "import pandas as pd\n",
    "import matplotlib.pyplot as plt\n",
    "\n",
    "def hist(df, local, fs, **kwargs) :\n",
    "    \"\"\"Get slice from pandas.DataFrame and plot histogram\n",
    "    \n",
    "    Histogram is filled with time / size * 10 ** 6 so that the\n",
    "    filled variable has units of s / MB. The histogram generated\n",
    "    is given a label corresponding to the inputs local and fs.\n",
    "    \n",
    "    Parameters\n",
    "    ----------\n",
    "    df : pandas.DataFrame\n",
    "        dataframe of data read in during runs\n",
    "    local : bool\n",
    "        copied to local scratch run or not?\n",
    "    fs : str\n",
    "        'hdfs' or 'zfs' filesystem\n",
    "    kwargs : dict\n",
    "        passed on to plt.hist\n",
    "    \"\"\"\n",
    "    sl = df[(df['local'] == local) & (df['filesystem'] == fs)]\n",
    "    local_str = 'remote'\n",
    "    if local :\n",
    "        local_str = 'local'\n",
    "    plt.hist(sl['time']/sl['size']*10**6, label = f'{fs} {local_str}', **kwargs)"
   ]
  },
  {
   "cell_type": "code",
   "execution_count": 2,
   "id": "412ccf95",
   "metadata": {},
   "outputs": [],
   "source": [
    "df = pd.read_json('all-branches-runs.json',orient='records')"
   ]
  },
  {
   "cell_type": "code",
   "execution_count": 3,
   "id": "eb2e8705",
   "metadata": {},
   "outputs": [
    {
     "data": {
      "text/plain": [
       "<matplotlib.legend.Legend at 0x7fcb94298910>"
      ]
     },
     "execution_count": 3,
     "metadata": {},
     "output_type": "execute_result"
    },
    {
     "data": {
      "image/png": "[encoded data removed]",
      "text/plain": [
       "<Figure size 432x288 with 1 Axes>"
      ]
     },
     "metadata": {
      "needs_background": "light"
     },
     "output_type": "display_data"
    }
   ],
   "source": [
    "hist(df, True , 'hdfs', bins=20, histtype='step')\n",
    "hist(df, False, 'hdfs', bins=20, histtype='step')\n",
    "plt.xlabel('Time [s] / File Size [MB]')\n",
    "plt.ylabel('File Count')\n",
    "plt.title('Runs Reading All Branches')\n",
    "plt.legend()"
   ]
  },
  {
   "cell_type": "code",
   "execution_count": null,
   "id": "5bd3818e",
   "metadata": {},
   "outputs": [],
   "source": []
  }
 ],
 "metadata": {
  "kernelspec": {
   "display_name": "Python 3 (ipykernel)",
   "language": "python",
   "name": "python3"
  },
  "language_info": {
   "codemirror_mode": {
    "name": "ipython",
    "version": 3
   },
   "file_extension": ".py",
   "mimetype": "text/x-python",
   "name": "python",
   "nbconvert_exporter": "python",
   "pygments_lexer": "ipython3",
   "version": "3.8.10"
  }
 },
 "nbformat": 4,
 "nbformat_minor": 5
}
