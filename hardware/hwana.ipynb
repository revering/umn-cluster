{
 "cells": [
  {
   "cell_type": "markdown",
   "id": "1cf1878c-0855-43f5-86f8-3384f957cdc3",
   "metadata": {},
   "source": [
    "# Hardware Analysis"
   ]
  },
  {
   "cell_type": "code",
   "execution_count": 2,
   "id": "9d718b0a-03de-4700-9f4c-5a40a83056aa",
   "metadata": {},
   "outputs": [],
   "source": [
    "import pandas as pd\n",
    "import matplotlib.pyplot as plt\n",
    "import numpy as np"
   ]
  },
  {
   "cell_type": "markdown",
   "id": "769cbae2-5039-480c-b7e1-cbbe2450f927",
   "metadata": {},
   "source": [
    "## Data Manipulation\n",
    "We put the type deduction and helpful renaming here."
   ]
  },
  {
   "cell_type": "code",
   "execution_count": 18,
   "id": "0f1d9e78-88e6-4a28-910f-07543f6947e2",
   "metadata": {},
   "outputs": [
    {
     "data": {
      "text/html": [
       "<div>\n",
       "<style scoped>\n",
       "    .dataframe tbody tr th:only-of-type {\n",
       "        vertical-align: middle;\n",
       "    }\n",
       "\n",
       "    .dataframe tbody tr th {\n",
       "        vertical-align: top;\n",
       "    }\n",
       "\n",
       "    .dataframe thead th {\n",
       "        text-align: right;\n",
       "    }\n",
       "</style>\n",
       "<table border=\"1\" class=\"dataframe\">\n",
       "  <thead>\n",
       "    <tr style=\"text-align: right;\">\n",
       "      <th></th>\n",
       "      <th>Host</th>\n",
       "      <th>nproc</th>\n",
       "      <th>RAM</th>\n",
       "      <th>CVMFS</th>\n",
       "      <th>HDFS</th>\n",
       "      <th>scratch</th>\n",
       "      <th>sing</th>\n",
       "      <th>OS</th>\n",
       "    </tr>\n",
       "  </thead>\n",
       "  <tbody>\n",
       "    <tr>\n",
       "      <th>0</th>\n",
       "      <td>cdms-04-1</td>\n",
       "      <td>24</td>\n",
       "      <td>47 GB</td>\n",
       "      <td>yes</td>\n",
       "      <td>no</td>\n",
       "      <td>170G</td>\n",
       "      <td>no</td>\n",
       "      <td>Scientific Linux release 6.10 (Carbon)</td>\n",
       "    </tr>\n",
       "    <tr>\n",
       "      <th>1</th>\n",
       "      <td>cdms-04-2</td>\n",
       "      <td>24</td>\n",
       "      <td>47 GB</td>\n",
       "      <td>yes</td>\n",
       "      <td>no</td>\n",
       "      <td>170G</td>\n",
       "      <td>no</td>\n",
       "      <td>Scientific Linux release 6.10 (Carbon)</td>\n",
       "    </tr>\n",
       "    <tr>\n",
       "      <th>2</th>\n",
       "      <td>cdms-04-3</td>\n",
       "      <td>24</td>\n",
       "      <td>47 GB</td>\n",
       "      <td>yes</td>\n",
       "      <td>no</td>\n",
       "      <td>170G</td>\n",
       "      <td>no</td>\n",
       "      <td>Scientific Linux release 6.10 (Carbon)</td>\n",
       "    </tr>\n",
       "    <tr>\n",
       "      <th>3</th>\n",
       "      <td>cdms-04-4</td>\n",
       "      <td>24</td>\n",
       "      <td>46 GB</td>\n",
       "      <td>yes</td>\n",
       "      <td>yes</td>\n",
       "      <td>73G</td>\n",
       "      <td>yes</td>\n",
       "      <td>CentOS Linux release 7.9.2009 (Core)</td>\n",
       "    </tr>\n",
       "    <tr>\n",
       "      <th>4</th>\n",
       "      <td>cdms1</td>\n",
       "      <td>24</td>\n",
       "      <td>47 GB</td>\n",
       "      <td>yes</td>\n",
       "      <td>no</td>\n",
       "      <td>382G</td>\n",
       "      <td>no</td>\n",
       "      <td>Scientific Linux release 6.10 (Carbon)</td>\n",
       "    </tr>\n",
       "    <tr>\n",
       "      <th>...</th>\n",
       "      <td>...</td>\n",
       "      <td>...</td>\n",
       "      <td>...</td>\n",
       "      <td>...</td>\n",
       "      <td>...</td>\n",
       "      <td>...</td>\n",
       "      <td>...</td>\n",
       "      <td>...</td>\n",
       "    </tr>\n",
       "    <tr>\n",
       "      <th>147</th>\n",
       "      <td>twins-b23</td>\n",
       "      <td>16</td>\n",
       "      <td>23 GB</td>\n",
       "      <td>yes</td>\n",
       "      <td>yes</td>\n",
       "      <td>107G</td>\n",
       "      <td>no</td>\n",
       "      <td>Scientific Linux release 6.10 (Carbon)</td>\n",
       "    </tr>\n",
       "    <tr>\n",
       "      <th>148</th>\n",
       "      <td>wn01-1</td>\n",
       "      <td>24</td>\n",
       "      <td>47 GB</td>\n",
       "      <td>yes</td>\n",
       "      <td>no</td>\n",
       "      <td>407G</td>\n",
       "      <td>no</td>\n",
       "      <td>Scientific Linux release 6.10 (Carbon)</td>\n",
       "    </tr>\n",
       "    <tr>\n",
       "      <th>149</th>\n",
       "      <td>wn01-2</td>\n",
       "      <td>24</td>\n",
       "      <td>47 GB</td>\n",
       "      <td>yes</td>\n",
       "      <td>no</td>\n",
       "      <td>407G</td>\n",
       "      <td>no</td>\n",
       "      <td>Scientific Linux release 6.10 (Carbon)</td>\n",
       "    </tr>\n",
       "    <tr>\n",
       "      <th>150</th>\n",
       "      <td>wn01-4</td>\n",
       "      <td>24</td>\n",
       "      <td>47 GB</td>\n",
       "      <td>yes</td>\n",
       "      <td>no</td>\n",
       "      <td>407G</td>\n",
       "      <td>no</td>\n",
       "      <td>Scientific Linux release 6.10 (Carbon)</td>\n",
       "    </tr>\n",
       "    <tr>\n",
       "      <th>151</th>\n",
       "      <td>wn02-2</td>\n",
       "      <td>24</td>\n",
       "      <td>47 GB</td>\n",
       "      <td>yes</td>\n",
       "      <td>no</td>\n",
       "      <td>407G</td>\n",
       "      <td>no</td>\n",
       "      <td>Scientific Linux release 6.10 (Carbon)</td>\n",
       "    </tr>\n",
       "  </tbody>\n",
       "</table>\n",
       "<p>138 rows × 8 columns</p>\n",
       "</div>"
      ],
      "text/plain": [
       "             Host  nproc    RAM  CVMFS  HDFS  scratch  sing  \\\n",
       "0       cdms-04-1     24  47 GB    yes    no     170G    no   \n",
       "1       cdms-04-2     24  47 GB    yes    no     170G    no   \n",
       "2       cdms-04-3     24  47 GB    yes    no     170G    no   \n",
       "3       cdms-04-4     24  46 GB    yes   yes      73G   yes   \n",
       "4           cdms1     24  47 GB    yes    no     382G    no   \n",
       "..            ...    ...    ...    ...   ...      ...   ...   \n",
       "147     twins-b23     16  23 GB    yes   yes     107G    no   \n",
       "148        wn01-1     24  47 GB    yes    no     407G    no   \n",
       "149        wn01-2     24  47 GB    yes    no     407G    no   \n",
       "150        wn01-4     24  47 GB    yes    no     407G    no   \n",
       "151        wn02-2     24  47 GB    yes    no     407G    no   \n",
       "\n",
       "                                         OS  \n",
       "0    Scientific Linux release 6.10 (Carbon)  \n",
       "1    Scientific Linux release 6.10 (Carbon)  \n",
       "2    Scientific Linux release 6.10 (Carbon)  \n",
       "3      CentOS Linux release 7.9.2009 (Core)  \n",
       "4    Scientific Linux release 6.10 (Carbon)  \n",
       "..                                      ...  \n",
       "147  Scientific Linux release 6.10 (Carbon)  \n",
       "148  Scientific Linux release 6.10 (Carbon)  \n",
       "149  Scientific Linux release 6.10 (Carbon)  \n",
       "150  Scientific Linux release 6.10 (Carbon)  \n",
       "151  Scientific Linux release 6.10 (Carbon)  \n",
       "\n",
       "[138 rows x 8 columns]"
      ]
     },
     "execution_count": 18,
     "metadata": {},
     "output_type": "execute_result"
    }
   ],
   "source": [
    "# read the tsv, drop NA rows, and remove whitespace from column headers\n",
    "df = pd.read_csv('node-survey.tsv',sep='\\t').dropna().rename(columns=lambda x : x.strip())\n",
    "df"
   ]
  },
  {
   "cell_type": "code",
   "execution_count": 13,
   "id": "c08b41e0-9642-4ab3-9ef2-13cac5df2fdc",
   "metadata": {},
   "outputs": [
    {
     "data": {
      "text/plain": [
       "2672"
      ]
     },
     "execution_count": 13,
     "metadata": {},
     "output_type": "execute_result"
    }
   ],
   "source": [
    "pd.to_numeric(df['nproc']).sum()"
   ]
  },
  {
   "cell_type": "code",
   "execution_count": 14,
   "id": "45a14365-f1c4-479a-974d-c2b19438b6fc",
   "metadata": {},
   "outputs": [
    {
     "data": {
      "text/plain": [
       "688"
      ]
     },
     "execution_count": 14,
     "metadata": {},
     "output_type": "execute_result"
    }
   ],
   "source": [
    "pd.to_numeric(df[df['Host'].str.contains('scorpion')]['nproc']).sum()"
   ]
  },
  {
   "cell_type": "markdown",
   "id": "4af5b14d-19cc-424b-aa40-e00038538c3a",
   "metadata": {},
   "source": [
    "### Convert Human String to Numeric Value"
   ]
  },
  {
   "cell_type": "code",
   "execution_count": 15,
   "id": "e100dd5d-b1a3-4d4e-83ae-dc27b10044f1",
   "metadata": {
    "tags": []
   },
   "outputs": [],
   "source": [
    "def memstr_to_GB(memstr) :\n",
    "    memstr = memstr.strip()\n",
    "    factor = 1\n",
    "    if memstr[-1] == 'G' :\n",
    "        pass\n",
    "    elif memstr[-1] == 'T' :\n",
    "        factor = 1000\n",
    "    else :\n",
    "        raise ValueError(f'Unknown suffix for {memstr}')\n",
    "    return float(memstr[0:-1])*factor\n",
    "\n",
    "def ramstr_to_GB(ramstr) :\n",
    "    ramstr = ramstr.strip().split()\n",
    "    if len(ramstr) != 2 :\n",
    "        raise ValueError(f'Malformed RAM string {ramstr}')\n",
    "    factor = 1\n",
    "    if ramstr[1] == 'GB' :\n",
    "        pass\n",
    "    elif ramstr[1] == 'MB' :\n",
    "        factor = 1/1000\n",
    "    else :\n",
    "        raise ValueError(f'Unrecognized suffix {ramstr}')\n",
    "    return float(ramstr[0])*factor\n",
    "    \n",
    "\n",
    "df['scratch_GB'] = df.apply(lambda row : memstr_to_GB(row['scratch']),axis=1)\n",
    "df['ram_GB'] = df.apply(lambda row : ramstr_to_GB(row['RAM']),axis=1)"
   ]
  },
  {
   "cell_type": "markdown",
   "id": "253b130c-e2f3-479a-afa1-e8bb060d3402",
   "metadata": {},
   "source": [
    "### Convert Long OS Name to ShortHand"
   ]
  },
  {
   "cell_type": "code",
   "execution_count": 16,
   "id": "0cefbf53-29f4-4bf7-b667-c6984af2155c",
   "metadata": {},
   "outputs": [],
   "source": [
    "long_to_short = {\n",
    "    'CentOS Linux release 7.9.2009 (Core)' : 'CentOS 7.9',\n",
    "    'CentOS Linux release 7.8.2003 (Core)' : 'CentOS 7.8',\n",
    "    'Scientific Linux release 6.10 (Carbon)' : 'SL6'\n",
    "}\n",
    "\n",
    "df['OS'] = df.apply(lambda row : long_to_short[row['OS']], axis=1)"
   ]
  },
  {
   "cell_type": "markdown",
   "id": "47aea96f-379a-4cef-9f3c-4e0107a3fb53",
   "metadata": {
    "tags": []
   },
   "source": [
    "## Scratch Size\n",
    "A big issue we have continuously seen is that several nodes lose their CVMFS connection because their scratch directories get over-filled and CVMFS crashes when it is unable to write to its cache area. These nodes can be seen plotting the scratch size of each node -- there is a separate group of nodes with scratch size an order of magnitude below the next smallest size."
   ]
  },
  {
   "cell_type": "code",
   "execution_count": 17,
   "id": "d63add83-66b8-47c5-ad74-321113cc2307",
   "metadata": {
    "jupyter": {
     "source_hidden": true
    },
    "tags": []
   },
   "outputs": [
    {
     "data": {
      "image/png": "[encoded data removed]",
      "text/plain": [
       "<Figure size 432x288 with 1 Axes>"
      ]
     },
     "metadata": {
      "needs_background": "light"
     },
     "output_type": "display_data"
    }
   ],
   "source": [
    "plt.hist(df['scratch_GB'],histtype='step',bins=[1.,10.,50.,100.,500.,df['scratch_GB'].max()])\n",
    "plt.ylabel('Node Count')\n",
    "plt.xlabel('Scratch Size [GB]')\n",
    "plt.xscale('log')\n",
    "plt.show()"
   ]
  },
  {
   "cell_type": "markdown",
   "id": "5426bf75-c9c1-41af-9659-450e10486ff9",
   "metadata": {},
   "source": [
    "These nodes are"
   ]
  },
  {
   "cell_type": "code",
   "execution_count": 31,
   "id": "8b2f8156-e189-46d2-a6f1-eede9be1d769",
   "metadata": {
    "jupyter": {
     "source_hidden": true
    },
    "tags": []
   },
   "outputs": [
    {
     "data": {
      "text/html": [
       "<div>\n",
       "<style scoped>\n",
       "    .dataframe tbody tr th:only-of-type {\n",
       "        vertical-align: middle;\n",
       "    }\n",
       "\n",
       "    .dataframe tbody tr th {\n",
       "        vertical-align: top;\n",
       "    }\n",
       "\n",
       "    .dataframe thead th {\n",
       "        text-align: right;\n",
       "    }\n",
       "</style>\n",
       "<table border=\"1\" class=\"dataframe\">\n",
       "  <thead>\n",
       "    <tr style=\"text-align: right;\">\n",
       "      <th></th>\n",
       "      <th>Host</th>\n",
       "      <th>nproc</th>\n",
       "      <th>RAM</th>\n",
       "      <th>CVMFS</th>\n",
       "      <th>HDFS</th>\n",
       "      <th>scratch</th>\n",
       "      <th>sing</th>\n",
       "      <th>OS</th>\n",
       "      <th>scratch_GB</th>\n",
       "    </tr>\n",
       "  </thead>\n",
       "  <tbody>\n",
       "    <tr>\n",
       "      <th>54</th>\n",
       "      <td>scorpion1</td>\n",
       "      <td>16</td>\n",
       "      <td>23 GB</td>\n",
       "      <td>yes</td>\n",
       "      <td>yes</td>\n",
       "      <td>9.8G</td>\n",
       "      <td>yes</td>\n",
       "      <td>CentOS Linux release 7.9.2009 (Core)</td>\n",
       "      <td>9.8</td>\n",
       "    </tr>\n",
       "    <tr>\n",
       "      <th>56</th>\n",
       "      <td>scorpion3</td>\n",
       "      <td>16</td>\n",
       "      <td>23 GB</td>\n",
       "      <td>yes</td>\n",
       "      <td>yes</td>\n",
       "      <td>9.8G</td>\n",
       "      <td>yes</td>\n",
       "      <td>CentOS Linux release 7.8.2003 (Core)</td>\n",
       "      <td>9.8</td>\n",
       "    </tr>\n",
       "    <tr>\n",
       "      <th>58</th>\n",
       "      <td>scorpion5</td>\n",
       "      <td>16</td>\n",
       "      <td>23 GB</td>\n",
       "      <td>yes</td>\n",
       "      <td>yes</td>\n",
       "      <td>9.8G</td>\n",
       "      <td>yes</td>\n",
       "      <td>CentOS Linux release 7.8.2003 (Core)</td>\n",
       "      <td>9.8</td>\n",
       "    </tr>\n",
       "    <tr>\n",
       "      <th>59</th>\n",
       "      <td>scorpion6</td>\n",
       "      <td>16</td>\n",
       "      <td>23 GB</td>\n",
       "      <td>yes</td>\n",
       "      <td>yes</td>\n",
       "      <td>9.8G</td>\n",
       "      <td>yes</td>\n",
       "      <td>CentOS Linux release 7.9.2009 (Core)</td>\n",
       "      <td>9.8</td>\n",
       "    </tr>\n",
       "    <tr>\n",
       "      <th>62</th>\n",
       "      <td>scorpion9</td>\n",
       "      <td>16</td>\n",
       "      <td>23 GB</td>\n",
       "      <td>yes</td>\n",
       "      <td>yes</td>\n",
       "      <td>9.8G</td>\n",
       "      <td>yes</td>\n",
       "      <td>CentOS Linux release 7.9.2009 (Core)</td>\n",
       "      <td>9.8</td>\n",
       "    </tr>\n",
       "    <tr>\n",
       "      <th>64</th>\n",
       "      <td>scorpion11</td>\n",
       "      <td>16</td>\n",
       "      <td>23 GB</td>\n",
       "      <td>yes</td>\n",
       "      <td>yes</td>\n",
       "      <td>9.8G</td>\n",
       "      <td>yes</td>\n",
       "      <td>CentOS Linux release 7.9.2009 (Core)</td>\n",
       "      <td>9.8</td>\n",
       "    </tr>\n",
       "    <tr>\n",
       "      <th>65</th>\n",
       "      <td>scorpion12</td>\n",
       "      <td>16</td>\n",
       "      <td>23 GB</td>\n",
       "      <td>yes</td>\n",
       "      <td>yes</td>\n",
       "      <td>9.8G</td>\n",
       "      <td>yes</td>\n",
       "      <td>CentOS Linux release 7.9.2009 (Core)</td>\n",
       "      <td>9.8</td>\n",
       "    </tr>\n",
       "    <tr>\n",
       "      <th>67</th>\n",
       "      <td>scorpion14</td>\n",
       "      <td>16</td>\n",
       "      <td>23 GB</td>\n",
       "      <td>yes</td>\n",
       "      <td>yes</td>\n",
       "      <td>9.8G</td>\n",
       "      <td>yes</td>\n",
       "      <td>CentOS Linux release 7.9.2009 (Core)</td>\n",
       "      <td>9.8</td>\n",
       "    </tr>\n",
       "    <tr>\n",
       "      <th>70</th>\n",
       "      <td>scorpion17</td>\n",
       "      <td>16</td>\n",
       "      <td>23 GB</td>\n",
       "      <td>yes</td>\n",
       "      <td>yes</td>\n",
       "      <td>9.8G</td>\n",
       "      <td>yes</td>\n",
       "      <td>CentOS Linux release 7.9.2009 (Core)</td>\n",
       "      <td>9.8</td>\n",
       "    </tr>\n",
       "    <tr>\n",
       "      <th>73</th>\n",
       "      <td>scorpion20</td>\n",
       "      <td>16</td>\n",
       "      <td>23 GB</td>\n",
       "      <td>yes</td>\n",
       "      <td>yes</td>\n",
       "      <td>9.8G</td>\n",
       "      <td>yes</td>\n",
       "      <td>CentOS Linux release 7.9.2009 (Core)</td>\n",
       "      <td>9.8</td>\n",
       "    </tr>\n",
       "    <tr>\n",
       "      <th>74</th>\n",
       "      <td>scorpion21</td>\n",
       "      <td>16</td>\n",
       "      <td>23 GB</td>\n",
       "      <td>yes</td>\n",
       "      <td>yes</td>\n",
       "      <td>9.8G</td>\n",
       "      <td>yes</td>\n",
       "      <td>CentOS Linux release 7.9.2009 (Core)</td>\n",
       "      <td>9.8</td>\n",
       "    </tr>\n",
       "    <tr>\n",
       "      <th>75</th>\n",
       "      <td>scorpion22</td>\n",
       "      <td>16</td>\n",
       "      <td>23 GB</td>\n",
       "      <td>yes</td>\n",
       "      <td>yes</td>\n",
       "      <td>9.8G</td>\n",
       "      <td>yes</td>\n",
       "      <td>CentOS Linux release 7.9.2009 (Core)</td>\n",
       "      <td>9.8</td>\n",
       "    </tr>\n",
       "    <tr>\n",
       "      <th>76</th>\n",
       "      <td>scorpion23</td>\n",
       "      <td>16</td>\n",
       "      <td>23 GB</td>\n",
       "      <td>yes</td>\n",
       "      <td>yes</td>\n",
       "      <td>9.8G</td>\n",
       "      <td>yes</td>\n",
       "      <td>CentOS Linux release 7.9.2009 (Core)</td>\n",
       "      <td>9.8</td>\n",
       "    </tr>\n",
       "    <tr>\n",
       "      <th>77</th>\n",
       "      <td>scorpion24</td>\n",
       "      <td>16</td>\n",
       "      <td>23 GB</td>\n",
       "      <td>yes</td>\n",
       "      <td>yes</td>\n",
       "      <td>9.8G</td>\n",
       "      <td>yes</td>\n",
       "      <td>CentOS Linux release 7.9.2009 (Core)</td>\n",
       "      <td>9.8</td>\n",
       "    </tr>\n",
       "  </tbody>\n",
       "</table>\n",
       "</div>"
      ],
      "text/plain": [
       "            Host  nproc    RAM  CVMFS  HDFS  scratch  sing  \\\n",
       "54     scorpion1     16  23 GB    yes   yes     9.8G   yes   \n",
       "56     scorpion3     16  23 GB    yes   yes     9.8G   yes   \n",
       "58     scorpion5     16  23 GB    yes   yes     9.8G   yes   \n",
       "59     scorpion6     16  23 GB    yes   yes     9.8G   yes   \n",
       "62     scorpion9     16  23 GB    yes   yes     9.8G   yes   \n",
       "64    scorpion11     16  23 GB    yes   yes     9.8G   yes   \n",
       "65    scorpion12     16  23 GB    yes   yes     9.8G   yes   \n",
       "67    scorpion14     16  23 GB    yes   yes     9.8G   yes   \n",
       "70    scorpion17     16  23 GB    yes   yes     9.8G   yes   \n",
       "73    scorpion20     16  23 GB    yes   yes     9.8G   yes   \n",
       "74    scorpion21     16  23 GB    yes   yes     9.8G   yes   \n",
       "75    scorpion22     16  23 GB    yes   yes     9.8G   yes   \n",
       "76    scorpion23     16  23 GB    yes   yes     9.8G   yes   \n",
       "77    scorpion24     16  23 GB    yes   yes     9.8G   yes   \n",
       "\n",
       "                                      OS  scratch_GB  \n",
       "54  CentOS Linux release 7.9.2009 (Core)         9.8  \n",
       "56  CentOS Linux release 7.8.2003 (Core)         9.8  \n",
       "58  CentOS Linux release 7.8.2003 (Core)         9.8  \n",
       "59  CentOS Linux release 7.9.2009 (Core)         9.8  \n",
       "62  CentOS Linux release 7.9.2009 (Core)         9.8  \n",
       "64  CentOS Linux release 7.9.2009 (Core)         9.8  \n",
       "65  CentOS Linux release 7.9.2009 (Core)         9.8  \n",
       "67  CentOS Linux release 7.9.2009 (Core)         9.8  \n",
       "70  CentOS Linux release 7.9.2009 (Core)         9.8  \n",
       "73  CentOS Linux release 7.9.2009 (Core)         9.8  \n",
       "74  CentOS Linux release 7.9.2009 (Core)         9.8  \n",
       "75  CentOS Linux release 7.9.2009 (Core)         9.8  \n",
       "76  CentOS Linux release 7.9.2009 (Core)         9.8  \n",
       "77  CentOS Linux release 7.9.2009 (Core)         9.8  "
      ]
     },
     "execution_count": 31,
     "metadata": {},
     "output_type": "execute_result"
    }
   ],
   "source": [
    "df[df['scratch_GB']<10]"
   ]
  },
  {
   "cell_type": "markdown",
   "id": "3eb6043f-bd5f-41dc-826b-16cd7bab3dcd",
   "metadata": {
    "tags": []
   },
   "source": [
    "## Categorial Data\n",
    "We can group the nodes based on various attributes they have.\n",
    "- We are currently dominated by nodes still running **SL 6**.\n",
    "- A large majority of nodes have HDFS mounted (which I think implies that they are participating)\n",
    "- All of the nodes have CVMFS attached (on a good day)\n",
    "- The SL6 nodes do not have singularity while the C7 nodes do\n",
    "- All nodes have a minimum of 23 GB RAM and 16 processors"
   ]
  },
  {
   "cell_type": "code",
   "execution_count": 56,
   "id": "bc56e984-64c7-4aef-81a4-10976f0cdace",
   "metadata": {
    "jupyter": {
     "source_hidden": true
    },
    "tags": []
   },
   "outputs": [
    {
     "data": {
      "image/png": "[encoded data removed]",
      "text/plain": [
       "<Figure size 432x288 with 1 Axes>"
      ]
     },
     "metadata": {
      "needs_background": "light"
     },
     "output_type": "display_data"
    }
   ],
   "source": [
    "df['OS'].value_counts().plot(kind='bar')\n",
    "plt.ylabel('Node Count')\n",
    "plt.title('What OS is installed?')\n",
    "plt.show()"
   ]
  },
  {
   "cell_type": "code",
   "execution_count": 53,
   "id": "7ebe6d45-0df0-4e44-adc3-44df81b2b9ad",
   "metadata": {
    "jupyter": {
     "source_hidden": true
    },
    "tags": []
   },
   "outputs": [
    {
     "data": {
      "image/png": "[encoded data removed]",
      "text/plain": [
       "<Figure size 432x288 with 1 Axes>"
      ]
     },
     "metadata": {
      "needs_background": "light"
     },
     "output_type": "display_data"
    }
   ],
   "source": [
    "df['HDFS'].value_counts().plot(kind='bar')\n",
    "plt.ylabel('Node Count')\n",
    "plt.title('Does the node have HDFS mounted?')\n",
    "plt.show()"
   ]
  },
  {
   "cell_type": "code",
   "execution_count": 52,
   "id": "2c2288b2-aa3f-4867-badb-1b3176f2be02",
   "metadata": {
    "jupyter": {
     "source_hidden": true
    },
    "tags": []
   },
   "outputs": [
    {
     "data": {
      "image/png": "[encoded data removed]",
      "text/plain": [
       "<Figure size 432x288 with 1 Axes>"
      ]
     },
     "metadata": {
      "needs_background": "light"
     },
     "output_type": "display_data"
    }
   ],
   "source": [
    "df['CVMFS'].value_counts().plot(kind='bar')\n",
    "plt.ylabel('Node Counts')\n",
    "plt.title('Does the node have CVMFS attached (on a good day)?')\n",
    "plt.show()"
   ]
  },
  {
   "cell_type": "code",
   "execution_count": 63,
   "id": "029f6594-0407-4025-841a-1cecf0fb93d9",
   "metadata": {
    "jupyter": {
     "source_hidden": true
    },
    "tags": []
   },
   "outputs": [
    {
     "data": {
      "image/png": "[encoded data removed]",
      "text/plain": [
       "<Figure size 432x288 with 1 Axes>"
      ]
     },
     "metadata": {
      "needs_background": "light"
     },
     "output_type": "display_data"
    }
   ],
   "source": [
    "df[['sing','OS']].value_counts().plot(kind='bar')\n",
    "plt.ylabel('Node Count')\n",
    "plt.title('Does a node have singularity installed? Separated by OS')\n",
    "plt.show()"
   ]
  },
  {
   "cell_type": "code",
   "execution_count": 48,
   "id": "334cc54a-d512-4efa-9066-4bcde9e3859a",
   "metadata": {
    "jupyter": {
     "source_hidden": true
    },
    "tags": []
   },
   "outputs": [
    {
     "data": {
      "image/png": "[encoded data removed]",
      "text/plain": [
       "<Figure size 432x288 with 1 Axes>"
      ]
     },
     "metadata": {
      "needs_background": "light"
     },
     "output_type": "display_data"
    }
   ],
   "source": [
    "plt.hist(df['ram_GB'])\n",
    "plt.ylabel('Node Counts')\n",
    "plt.xlabel('RAM Size [GB]')\n",
    "plt.show()"
   ]
  },
  {
   "cell_type": "code",
   "execution_count": 51,
   "id": "379f13aa-d2cb-44a5-8473-3dc9a004b66f",
   "metadata": {
    "jupyter": {
     "source_hidden": true
    },
    "tags": []
   },
   "outputs": [
    {
     "data": {
      "image/png": "[encoded data removed]",
      "text/plain": [
       "<Figure size 432x288 with 1 Axes>"
      ]
     },
     "metadata": {
      "needs_background": "light"
     },
     "output_type": "display_data"
    }
   ],
   "source": [
    "plt.hist(pd.to_numeric(df['nproc']))\n",
    "plt.ylabel('Node Counts')\n",
    "plt.xlabel('N Processors')\n",
    "plt.show()"
   ]
  },
  {
   "cell_type": "code",
   "execution_count": null,
   "id": "32e02338-fc4e-4c82-b837-0e310ae0e22e",
   "metadata": {},
   "outputs": [],
   "source": []
  }
 ],
 "metadata": {
  "kernelspec": {
   "display_name": "Python 3",
   "language": "python",
   "name": "python3"
  },
  "language_info": {
   "codemirror_mode": {
    "name": "ipython",
    "version": 3
   },
   "file_extension": ".py",
   "mimetype": "text/x-python",
   "name": "python",
   "nbconvert_exporter": "python",
   "pygments_lexer": "ipython3",
   "version": "3.6.8"
  }
 },
 "nbformat": 4,
 "nbformat_minor": 5
}
